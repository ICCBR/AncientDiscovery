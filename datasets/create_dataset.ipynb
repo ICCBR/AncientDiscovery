{
 "cells": [
  {
   "cell_type": "code",
   "execution_count": 21,
   "metadata": {
    "collapsed": true
   },
   "outputs": [],
   "source": [
    "import os\n",
    "import matplotlib.pyplot as plt\n",
    "from datasets.dataset_manager import download_dataset"
   ]
  },
  {
   "cell_type": "code",
   "execution_count": 4,
   "outputs": [],
   "source": [
    "ori_root_path = \"ancient_5_ori\"\n",
    "exp_root_path = \"ancient_3_exp\""
   ],
   "metadata": {
    "collapsed": false,
    "pycharm": {
     "name": "#%%\n"
    }
   }
  },
  {
   "cell_type": "code",
   "execution_count": 5,
   "outputs": [],
   "source": [
    "if not os.path.exists(ori_root_path):\n",
    "    download_dataset(ori_root_path)\n"
   ],
   "metadata": {
    "collapsed": false,
    "pycharm": {
     "name": "#%%\n"
    }
   }
  },
  {
   "cell_type": "code",
   "execution_count": 41,
   "outputs": [],
   "source": [
    "def statistic(root_path):\n",
    "    stat = {}\n",
    "    for ws_dir in os.scandir(root_path):\n",
    "        stat[ws_dir.name] = {}\n",
    "        for char_dir in os.scandir(ws_dir):\n",
    "            stat[ws_dir.name][char_dir.name] = 0\n",
    "            for dir_path, dirs, fs in os.walk(char_dir):\n",
    "                if dirs:\n",
    "                    continue\n",
    "                for f in fs:\n",
    "                    if \"exp\" in f:\n",
    "                        continue\n",
    "                    stat[ws_dir.name][char_dir.name] += 1\n",
    "    return stat"
   ],
   "metadata": {
    "collapsed": false,
    "pycharm": {
     "name": "#%%\n"
    }
   }
  },
  {
   "cell_type": "code",
   "execution_count": 38,
   "outputs": [],
   "source": [
    "ori_stat = statistic(ori_root_path)\n",
    "exp_stat = statistic(exp_root_path)"
   ],
   "metadata": {
    "collapsed": false,
    "pycharm": {
     "name": "#%%\n"
    }
   }
  },
  {
   "cell_type": "code",
   "execution_count": 39,
   "outputs": [],
   "source": [
    "obi_ori_stat = sorted(ori_stat[\"jia\"].values(), reverse=True)\n",
    "obi_exp_stat = sorted(exp_stat[\"jia\"].values(), reverse=True)"
   ],
   "metadata": {
    "collapsed": false,
    "pycharm": {
     "name": "#%%\n"
    }
   }
  },
  {
   "cell_type": "code",
   "execution_count": 40,
   "outputs": [
    {
     "data": {
      "text/plain": "<Figure size 432x288 with 2 Axes>",
      "image/png": "[encoded data removed]"
     },
     "metadata": {
      "needs_background": "light"
     },
     "output_type": "display_data"
    }
   ],
   "source": [
    "fig = plt.figure(1)\n",
    "ax1 = plt.subplot(2, 3, 1)\n",
    "ax1.set_xticks([])\n",
    "plt.bar(range(len(obi_ori_stat)), obi_ori_stat)\n",
    "ax2 = plt.subplot(2, 3, 4)\n",
    "ax2.set_xticks([])\n",
    "plt.bar(range(len(obi_exp_stat)), obi_exp_stat)\n",
    "plt.show()"
   ],
   "metadata": {
    "collapsed": false,
    "pycharm": {
     "name": "#%%\n"
    }
   }
  },
  {
   "cell_type": "code",
   "execution_count": 30,
   "outputs": [
    {
     "data": {
      "text/plain": "<Figure size 432x288 with 3 Axes>",
      "image/png": "[encoded data removed]"
     },
     "metadata": {
      "needs_background": "light"
     },
     "output_type": "display_data"
    }
   ],
   "source": [],
   "metadata": {
    "collapsed": false,
    "pycharm": {
     "name": "#%%\n"
    }
   }
  },
  {
   "cell_type": "code",
   "execution_count": null,
   "outputs": [],
   "source": [],
   "metadata": {
    "collapsed": false,
    "pycharm": {
     "name": "#%%\n"
    }
   }
  }
 ],
 "metadata": {
  "kernelspec": {
   "display_name": "Python 3",
   "language": "python",
   "name": "python3"
  },
  "language_info": {
   "codemirror_mode": {
    "name": "ipython",
    "version": 2
   },
   "file_extension": ".py",
   "mimetype": "text/x-python",
   "name": "python",
   "nbconvert_exporter": "python",
   "pygments_lexer": "ipython2",
   "version": "2.7.6"
  }
 },
 "nbformat": 4,
 "nbformat_minor": 0
}